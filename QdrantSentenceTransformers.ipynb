{
  "nbformat": 4,
  "nbformat_minor": 0,
  "metadata": {
    "colab": {
      "provenance": [],
      "authorship_tag": "ABX9TyPqbHBJJh5HsFAdVOPueUXa",
      "include_colab_link": true
    },
    "kernelspec": {
      "name": "python3",
      "display_name": "Python 3"
    },
    "language_info": {
      "name": "python"
    },
    "widgets": {
      "application/vnd.jupyter.widget-state+json": {
        "a78faded208d4528bfea957135e2c354": {
          "model_module": "@jupyter-widgets/controls",
          "model_name": "HBoxModel",
          "model_module_version": "1.5.0",
          "state": {
            "_dom_classes": [],
            "_model_module": "@jupyter-widgets/controls",
            "_model_module_version": "1.5.0",
            "_model_name": "HBoxModel",
            "_view_count": null,
            "_view_module": "@jupyter-widgets/controls",
            "_view_module_version": "1.5.0",
            "_view_name": "HBoxView",
            "box_style": "",
            "children": [
              "IPY_MODEL_eca1baba48ab4b14b1722d8b88c33059",
              "IPY_MODEL_99eb4be881074428976f7a68ad100508",
              "IPY_MODEL_6556ac3deba84a97b16b49245ad470f0"
            ],
            "layout": "IPY_MODEL_5964813a4e6c432da3200b23500a6679"
          }
        },
        "eca1baba48ab4b14b1722d8b88c33059": {
          "model_module": "@jupyter-widgets/controls",
          "model_name": "HTMLModel",
          "model_module_version": "1.5.0",
          "state": {
            "_dom_classes": [],
            "_model_module": "@jupyter-widgets/controls",
            "_model_module_version": "1.5.0",
            "_model_name": "HTMLModel",
            "_view_count": null,
            "_view_module": "@jupyter-widgets/controls",
            "_view_module_version": "1.5.0",
            "_view_name": "HTMLView",
            "description": "",
            "description_tooltip": null,
            "layout": "IPY_MODEL_12b978959e264fcd8480aab1dc65640e",
            "placeholder": "​",
            "style": "IPY_MODEL_3ac2c701d9d0497fb24740699e6404e1",
            "value": "Batches: 100%"
          }
        },
        "99eb4be881074428976f7a68ad100508": {
          "model_module": "@jupyter-widgets/controls",
          "model_name": "FloatProgressModel",
          "model_module_version": "1.5.0",
          "state": {
            "_dom_classes": [],
            "_model_module": "@jupyter-widgets/controls",
            "_model_module_version": "1.5.0",
            "_model_name": "FloatProgressModel",
            "_view_count": null,
            "_view_module": "@jupyter-widgets/controls",
            "_view_module_version": "1.5.0",
            "_view_name": "ProgressView",
            "bar_style": "success",
            "description": "",
            "description_tooltip": null,
            "layout": "IPY_MODEL_94c72bf5b7cd423c8db031c713059d8b",
            "max": 29,
            "min": 0,
            "orientation": "horizontal",
            "style": "IPY_MODEL_1294cae846b44f36baeb864b3f8c8148",
            "value": 29
          }
        },
        "6556ac3deba84a97b16b49245ad470f0": {
          "model_module": "@jupyter-widgets/controls",
          "model_name": "HTMLModel",
          "model_module_version": "1.5.0",
          "state": {
            "_dom_classes": [],
            "_model_module": "@jupyter-widgets/controls",
            "_model_module_version": "1.5.0",
            "_model_name": "HTMLModel",
            "_view_count": null,
            "_view_module": "@jupyter-widgets/controls",
            "_view_module_version": "1.5.0",
            "_view_name": "HTMLView",
            "description": "",
            "description_tooltip": null,
            "layout": "IPY_MODEL_55192c2d2f8f465e828dd9cb3acf2131",
            "placeholder": "​",
            "style": "IPY_MODEL_b6177cb472834a079a47a2b7a4e3ca33",
            "value": " 29/29 [00:45&lt;00:00,  1.17s/it]"
          }
        },
        "5964813a4e6c432da3200b23500a6679": {
          "model_module": "@jupyter-widgets/base",
          "model_name": "LayoutModel",
          "model_module_version": "1.2.0",
          "state": {
            "_model_module": "@jupyter-widgets/base",
            "_model_module_version": "1.2.0",
            "_model_name": "LayoutModel",
            "_view_count": null,
            "_view_module": "@jupyter-widgets/base",
            "_view_module_version": "1.2.0",
            "_view_name": "LayoutView",
            "align_content": null,
            "align_items": null,
            "align_self": null,
            "border": null,
            "bottom": null,
            "display": null,
            "flex": null,
            "flex_flow": null,
            "grid_area": null,
            "grid_auto_columns": null,
            "grid_auto_flow": null,
            "grid_auto_rows": null,
            "grid_column": null,
            "grid_gap": null,
            "grid_row": null,
            "grid_template_areas": null,
            "grid_template_columns": null,
            "grid_template_rows": null,
            "height": null,
            "justify_content": null,
            "justify_items": null,
            "left": null,
            "margin": null,
            "max_height": null,
            "max_width": null,
            "min_height": null,
            "min_width": null,
            "object_fit": null,
            "object_position": null,
            "order": null,
            "overflow": null,
            "overflow_x": null,
            "overflow_y": null,
            "padding": null,
            "right": null,
            "top": null,
            "visibility": null,
            "width": null
          }
        },
        "12b978959e264fcd8480aab1dc65640e": {
          "model_module": "@jupyter-widgets/base",
          "model_name": "LayoutModel",
          "model_module_version": "1.2.0",
          "state": {
            "_model_module": "@jupyter-widgets/base",
            "_model_module_version": "1.2.0",
            "_model_name": "LayoutModel",
            "_view_count": null,
            "_view_module": "@jupyter-widgets/base",
            "_view_module_version": "1.2.0",
            "_view_name": "LayoutView",
            "align_content": null,
            "align_items": null,
            "align_self": null,
            "border": null,
            "bottom": null,
            "display": null,
            "flex": null,
            "flex_flow": null,
            "grid_area": null,
            "grid_auto_columns": null,
            "grid_auto_flow": null,
            "grid_auto_rows": null,
            "grid_column": null,
            "grid_gap": null,
            "grid_row": null,
            "grid_template_areas": null,
            "grid_template_columns": null,
            "grid_template_rows": null,
            "height": null,
            "justify_content": null,
            "justify_items": null,
            "left": null,
            "margin": null,
            "max_height": null,
            "max_width": null,
            "min_height": null,
            "min_width": null,
            "object_fit": null,
            "object_position": null,
            "order": null,
            "overflow": null,
            "overflow_x": null,
            "overflow_y": null,
            "padding": null,
            "right": null,
            "top": null,
            "visibility": null,
            "width": null
          }
        },
        "3ac2c701d9d0497fb24740699e6404e1": {
          "model_module": "@jupyter-widgets/controls",
          "model_name": "DescriptionStyleModel",
          "model_module_version": "1.5.0",
          "state": {
            "_model_module": "@jupyter-widgets/controls",
            "_model_module_version": "1.5.0",
            "_model_name": "DescriptionStyleModel",
            "_view_count": null,
            "_view_module": "@jupyter-widgets/base",
            "_view_module_version": "1.2.0",
            "_view_name": "StyleView",
            "description_width": ""
          }
        },
        "94c72bf5b7cd423c8db031c713059d8b": {
          "model_module": "@jupyter-widgets/base",
          "model_name": "LayoutModel",
          "model_module_version": "1.2.0",
          "state": {
            "_model_module": "@jupyter-widgets/base",
            "_model_module_version": "1.2.0",
            "_model_name": "LayoutModel",
            "_view_count": null,
            "_view_module": "@jupyter-widgets/base",
            "_view_module_version": "1.2.0",
            "_view_name": "LayoutView",
            "align_content": null,
            "align_items": null,
            "align_self": null,
            "border": null,
            "bottom": null,
            "display": null,
            "flex": null,
            "flex_flow": null,
            "grid_area": null,
            "grid_auto_columns": null,
            "grid_auto_flow": null,
            "grid_auto_rows": null,
            "grid_column": null,
            "grid_gap": null,
            "grid_row": null,
            "grid_template_areas": null,
            "grid_template_columns": null,
            "grid_template_rows": null,
            "height": null,
            "justify_content": null,
            "justify_items": null,
            "left": null,
            "margin": null,
            "max_height": null,
            "max_width": null,
            "min_height": null,
            "min_width": null,
            "object_fit": null,
            "object_position": null,
            "order": null,
            "overflow": null,
            "overflow_x": null,
            "overflow_y": null,
            "padding": null,
            "right": null,
            "top": null,
            "visibility": null,
            "width": null
          }
        },
        "1294cae846b44f36baeb864b3f8c8148": {
          "model_module": "@jupyter-widgets/controls",
          "model_name": "ProgressStyleModel",
          "model_module_version": "1.5.0",
          "state": {
            "_model_module": "@jupyter-widgets/controls",
            "_model_module_version": "1.5.0",
            "_model_name": "ProgressStyleModel",
            "_view_count": null,
            "_view_module": "@jupyter-widgets/base",
            "_view_module_version": "1.2.0",
            "_view_name": "StyleView",
            "bar_color": null,
            "description_width": ""
          }
        },
        "55192c2d2f8f465e828dd9cb3acf2131": {
          "model_module": "@jupyter-widgets/base",
          "model_name": "LayoutModel",
          "model_module_version": "1.2.0",
          "state": {
            "_model_module": "@jupyter-widgets/base",
            "_model_module_version": "1.2.0",
            "_model_name": "LayoutModel",
            "_view_count": null,
            "_view_module": "@jupyter-widgets/base",
            "_view_module_version": "1.2.0",
            "_view_name": "LayoutView",
            "align_content": null,
            "align_items": null,
            "align_self": null,
            "border": null,
            "bottom": null,
            "display": null,
            "flex": null,
            "flex_flow": null,
            "grid_area": null,
            "grid_auto_columns": null,
            "grid_auto_flow": null,
            "grid_auto_rows": null,
            "grid_column": null,
            "grid_gap": null,
            "grid_row": null,
            "grid_template_areas": null,
            "grid_template_columns": null,
            "grid_template_rows": null,
            "height": null,
            "justify_content": null,
            "justify_items": null,
            "left": null,
            "margin": null,
            "max_height": null,
            "max_width": null,
            "min_height": null,
            "min_width": null,
            "object_fit": null,
            "object_position": null,
            "order": null,
            "overflow": null,
            "overflow_x": null,
            "overflow_y": null,
            "padding": null,
            "right": null,
            "top": null,
            "visibility": null,
            "width": null
          }
        },
        "b6177cb472834a079a47a2b7a4e3ca33": {
          "model_module": "@jupyter-widgets/controls",
          "model_name": "DescriptionStyleModel",
          "model_module_version": "1.5.0",
          "state": {
            "_model_module": "@jupyter-widgets/controls",
            "_model_module_version": "1.5.0",
            "_model_name": "DescriptionStyleModel",
            "_view_count": null,
            "_view_module": "@jupyter-widgets/base",
            "_view_module_version": "1.2.0",
            "_view_name": "StyleView",
            "description_width": ""
          }
        }
      }
    }
  },
  "cells": [
    {
      "cell_type": "markdown",
      "metadata": {
        "id": "view-in-github",
        "colab_type": "text"
      },
      "source": [
        "<a href=\"https://colab.research.google.com/github/vyperid/Qdrant-vs-ChromaDB/blob/main/QdrantSentenceTransformers.ipynb\" target=\"_parent\"><img src=\"https://colab.research.google.com/assets/colab-badge.svg\" alt=\"Open In Colab\"/></a>"
      ]
    },
    {
      "cell_type": "code",
      "execution_count": null,
      "metadata": {
        "collapsed": true,
        "id": "noPLRs8NZXXU"
      },
      "outputs": [],
      "source": [
        "!pip install -q PyMuPDF\n",
        "!pip install -q langchain-text-splitters\n",
        "!pip install -q qdrant-client\n",
        "!pip install -q langchain_community\n",
        "!pip install -q tiktoken\n",
        "!pip install -q transformers\n",
        "!pip install -q sentence_transformers"
      ]
    },
    {
      "cell_type": "code",
      "source": [
        "import pymupdf\n",
        "from langchain_text_splitters import RecursiveCharacterTextSplitter\n",
        "from qdrant_client import models, QdrantClient\n",
        "from sentence_transformers import SentenceTransformer\n",
        "import time"
      ],
      "metadata": {
        "colab": {
          "base_uri": "https://localhost:8080/"
        },
        "id": "8BQwW_CLfhB-",
        "outputId": "759a4b8f-1471-4e8a-cad9-e650d63642a9"
      },
      "execution_count": 2,
      "outputs": [
        {
          "output_type": "stream",
          "name": "stderr",
          "text": [
            "/usr/local/lib/python3.10/dist-packages/sentence_transformers/cross_encoder/CrossEncoder.py:11: TqdmExperimentalWarning: Using `tqdm.autonotebook.tqdm` in notebook mode. Use `tqdm.tqdm` instead to force console mode (e.g. in jupyter console)\n",
            "  from tqdm.autonotebook import tqdm, trange\n"
          ]
        }
      ]
    },
    {
      "cell_type": "code",
      "source": [
        "def pdf_to_txt(pdf_path, output_path):\n",
        "  document = pymupdf.open(pdf_path)\n",
        "\n",
        "  text = \"\"\n",
        "\n",
        "  for page in range(len(document)):\n",
        "    page = document.load_page(page)\n",
        "    text += page.get_text()\n",
        "\n",
        "  with open(output_path, \"w\", encoding='utf-8') as f:\n",
        "    f.write(text)\n",
        "\n",
        "pdf_path = '/content/62f12134d4d3a-dead-poets-society.pdf'\n",
        "txt_path = 'deadpoets.txt'\n",
        "pdf_to_txt(pdf_path, txt_path)"
      ],
      "metadata": {
        "id": "dogoGuAVfsbt"
      },
      "execution_count": 3,
      "outputs": []
    },
    {
      "cell_type": "code",
      "source": [
        "with open(\"/content/deadpoets.txt\") as f:\n",
        "  document = f.read()"
      ],
      "metadata": {
        "id": "aQx4eVA7gDAv"
      },
      "execution_count": 4,
      "outputs": []
    },
    {
      "cell_type": "code",
      "source": [
        "text_splitter = RecursiveCharacterTextSplitter(\n",
        "    chunk_size=300,\n",
        "    chunk_overlap=100,\n",
        "    length_function=len,\n",
        "    is_separator_regex=True,\n",
        "    separators=[\"\\.\"]\n",
        ")"
      ],
      "metadata": {
        "id": "PPVCzZOwgE4D"
      },
      "execution_count": 5,
      "outputs": []
    },
    {
      "cell_type": "code",
      "source": [
        "text_chunks = text_splitter.split_text(document)"
      ],
      "metadata": {
        "id": "SdoskLCXgHGE"
      },
      "execution_count": 6,
      "outputs": []
    },
    {
      "cell_type": "code",
      "source": [
        "qdrant = QdrantClient(\":memory:\")"
      ],
      "metadata": {
        "id": "gV94mIaJgPE6"
      },
      "execution_count": 7,
      "outputs": []
    },
    {
      "cell_type": "code",
      "source": [
        "encoder = SentenceTransformer('all-MiniLM-L6-v2')"
      ],
      "metadata": {
        "id": "j5hrXcc7gTcr"
      },
      "execution_count": null,
      "outputs": []
    },
    {
      "cell_type": "code",
      "source": [
        "embeddings = encoder.encode(text_chunks, show_progress_bar=True)"
      ],
      "metadata": {
        "colab": {
          "base_uri": "https://localhost:8080/",
          "height": 49,
          "referenced_widgets": [
            "a78faded208d4528bfea957135e2c354",
            "eca1baba48ab4b14b1722d8b88c33059",
            "99eb4be881074428976f7a68ad100508",
            "6556ac3deba84a97b16b49245ad470f0",
            "5964813a4e6c432da3200b23500a6679",
            "12b978959e264fcd8480aab1dc65640e",
            "3ac2c701d9d0497fb24740699e6404e1",
            "94c72bf5b7cd423c8db031c713059d8b",
            "1294cae846b44f36baeb864b3f8c8148",
            "55192c2d2f8f465e828dd9cb3acf2131",
            "b6177cb472834a079a47a2b7a4e3ca33"
          ]
        },
        "id": "OVxrMQ1KgofB",
        "outputId": "a3728cf3-a216-4a3f-934f-7b5974a3a5ff"
      },
      "execution_count": 11,
      "outputs": [
        {
          "output_type": "display_data",
          "data": {
            "text/plain": [
              "Batches:   0%|          | 0/29 [00:00<?, ?it/s]"
            ],
            "application/vnd.jupyter.widget-view+json": {
              "version_major": 2,
              "version_minor": 0,
              "model_id": "a78faded208d4528bfea957135e2c354"
            }
          },
          "metadata": {}
        }
      ]
    },
    {
      "cell_type": "code",
      "source": [
        "qdrant.recreate_collection(\n",
        "    collection_name = \"deadpoetssociety\",\n",
        "    vectors_config = models.VectorParams(\n",
        "        size=encoder.get_sentence_embedding_dimension(),\n",
        "        distance=models.Distance.COSINE)\n",
        ")"
      ],
      "metadata": {
        "colab": {
          "base_uri": "https://localhost:8080/"
        },
        "id": "c4Jv5wECgVas",
        "outputId": "10c56577-1abc-486e-fcda-0e5fbfddc84e"
      },
      "execution_count": 9,
      "outputs": [
        {
          "output_type": "stream",
          "name": "stderr",
          "text": [
            "<ipython-input-9-d177cc508d87>:1: DeprecationWarning: `recreate_collection` method is deprecated and will be removed in the future. Use `collection_exists` to check collection existence and `create_collection` instead.\n",
            "  qdrant.recreate_collection(\n"
          ]
        },
        {
          "output_type": "execute_result",
          "data": {
            "text/plain": [
              "True"
            ]
          },
          "metadata": {},
          "execution_count": 9
        }
      ]
    },
    {
      "cell_type": "code",
      "source": [
        "records = [\n",
        "    models.Record(\n",
        "        id=i,\n",
        "        vector=embeddings[i],\n",
        "        payload={\"text\": text_chunks[i]}\n",
        "    )\n",
        "    for i in range(len(text_chunks))\n",
        "]\n",
        "\n",
        "qdrant.upload_records(collection_name=\"deadpoetssociety\", records=records)"
      ],
      "metadata": {
        "colab": {
          "base_uri": "https://localhost:8080/"
        },
        "id": "CtPvCvd2gajU",
        "outputId": "c6c23e70-8b14-40dc-f14f-b37ae3a8facb"
      },
      "execution_count": 14,
      "outputs": [
        {
          "output_type": "stream",
          "name": "stderr",
          "text": [
            "<ipython-input-14-eaf53460004d>:10: DeprecationWarning: `upload_records` is deprecated, use `upload_points` instead\n",
            "  qdrant.upload_records(collection_name=\"deadpoetssociety\", records=records)\n"
          ]
        }
      ]
    },
    {
      "cell_type": "code",
      "source": [
        "questions = [\n",
        "    \"Who is going to be Neil Perry's roommate?\",\n",
        "    \"What did Todd do when Neil left the room?\",\n",
        "    \"What was the Dead Poets Society according to Mr. Keating?\",\n",
        "    \"How did the juniors feel about their first physical education class?\",\n",
        "    \"What is Todd’s reaction to the pressure of attending Welton Academy?\",\n",
        "    \"How does Mr. Keating’s unconventional approach to teaching Latin influence the students?\",\n",
        "    \"Describe the atmosphere and activities during the Welton Academy’s opening ceremony.\",\n",
        "    \"How does the character of Neil Perry evolve through his interactions with his father, and how does this affect his decisions and actions at Welton Academy?\",\n",
        "    \"How does Mr. Keating’s philosophy of “Carpe Diem” challenge the traditional values taught at Welton Academy, and what are the implications for the students who embrace this philosophy?\",\n",
        "    \"Examine how the theme of conformity versus individuality is portrayed through the interactions between Mr. Keating and the students, particularly in the context of Welton Academy’s values.\"\n",
        "]"
      ],
      "metadata": {
        "id": "pQR_qPczlGd_"
      },
      "execution_count": 21,
      "outputs": []
    },
    {
      "cell_type": "code",
      "source": [
        "for question in questions:\n",
        "  start = time.time()\n",
        "  query_embedding = encoder.encode([question])[0]\n",
        "  results = qdrant.search(\n",
        "    collection_name=\"deadpoetssociety\",\n",
        "    query_vector=query_embedding,\n",
        "    query_filter=None,\n",
        "    limit=1)\n",
        "  end = time.time()\n",
        "  print(f\"Time taken: {end - start}\")\n",
        "  print(results)"
      ],
      "metadata": {
        "colab": {
          "base_uri": "https://localhost:8080/"
        },
        "id": "xAFWs2ykj7IP",
        "outputId": "8f7f6839-6b78-4363-f7c4-b9bf16d0e6f3"
      },
      "execution_count": 24,
      "outputs": [
        {
          "output_type": "stream",
          "name": "stdout",
          "text": [
            "Time taken: 0.02834630012512207\n",
            "[ScoredPoint(id=71, version=0, score=0.7324936389923096, payload={'text': '.\\n“I hear we’re going to be roommates,” he said. “I’m Neil\\nPerry.”\\n“Todd Anderson,” he replied softly. The boys walked in\\nawkward silence.\\n“Why’d you leave Balincrest?” Neil asked.\\n“My brother went here.”\\nNeil shook his head. “Oh, so you’re THAT Anderson.”\\nTodd shrugged and groaned'}, vector=None, shard_key=None, order_value=None)]\n",
            "Time taken: 0.02861332893371582\n",
            "[ScoredPoint(id=370, version=0, score=0.7633233070373535, payload={'text': '. Todd walked\\nin late, but once they were all assembled, Neil stood and\\nstarted the meeting.\\n“‘I went to the woods because I wished to live deliberately. I\\nwanted to live deep and suck out all the marrow of life'}, vector=None, shard_key=None, order_value=None)]\n",
            "Time taken: 0.03498959541320801\n",
            "[ScoredPoint(id=1, version=0, score=0.7633446455001831, payload={'text': '. “What was the Dead Poets Society, sir?” Neil asked.\\nFor a split second, Keating’s face reddened. “I was just looking\\nin an old annual,” Neil explained, “and...”\\n“Nothing wrong with research,” Keating said, regaining his\\ncomposure.\\nThe boys waited for him to say more'}, vector=None, shard_key=None, order_value=None)]\n",
            "Time taken: 0.031584739685058594\n",
            "[ScoredPoint(id=155, version=0, score=0.5863257646560669, payload={'text': '.\\n“You think he’ll test us on that stuff?” Cameron asked, looking\\nconfused.\\n“Oh, come on, Cameron,” Charlie laughed, “don’t you get\\nanything?”\\nCHAPTER 5\\n \\nAfter lunch the juniors assembled in the gymnasium for the\\nrequired physical-education class'}, vector=None, shard_key=None, order_value=None)]\n",
            "Time taken: 0.03133416175842285\n",
            "[ScoredPoint(id=901, version=0, score=0.5898536443710327, payload={'text': '. Todd sat numbly, eyes cast downward, the way\\nhe had sat when school first began. Knox, Meeks, and Pitts\\nlooked humiliated as they squirmed in their seats. All of the\\nformer club members were too ashamed of themselves to even\\nlook at one another'}, vector=None, shard_key=None, order_value=None)]\n",
            "Time taken: 0.03165078163146973\n",
            "[ScoredPoint(id=329, version=0, score=0.5693274736404419, payload={'text': '.\\n“To communicate?”\\n“No,” Keating said. “To woo women. And, in that endeavor,\\nlaziness will not do. It also won’t do in your essays.”\\nThe class laughed. Keating closed his book, then walked to the\\nfront of the room and raised a map that had covered the\\nblackboard. On the board was Quotation'}, vector=None, shard_key=None, order_value=None)]\n",
            "Time taken: 0.033156633377075195\n",
            "[ScoredPoint(id=24, version=0, score=0.5951290130615234, payload={'text': '. When the squeaking of\\nchairs subsided, a solemn hush fell over the chapel.\\n“In her first year, ” Dean Nolan bellowed into the microphone,\\n“Welton Academy graduated five students.” He paused'}, vector=None, shard_key=None, order_value=None)]\n",
            "Time taken: 0.04396557807922363\n",
            "[ScoredPoint(id=656, version=0, score=0.6699388027191162, payload={'text': '.\\nAbruptly, he stopped. Sitting at his desk was his father! Neil’s\\nface turned white with shock.\\n“Father!”\\n“Neil, you are going to quit this ridiculous play immediately,”\\nMr. Perry barked.\\n“Father, I...”\\nMr. Perry jumped to his feet and pounded his hand on the\\ndesk'}, vector=None, shard_key=None, order_value=None)]\n",
            "Time taken: 0.050211429595947266\n",
            "[ScoredPoint(id=237, version=0, score=0.5485522747039795, payload={'text': '. The entire class jumped and\\nturned to the rear. “Well,” Keating whispered defiantly. “I say\\n—drivel! One reads poetry because he is a member of the\\nhuman race, and the human race is filled with passion!\\nMedicine, law, banking—-these are necessary to sustain life'}, vector=None, shard_key=None, order_value=None)]\n",
            "Time taken: 0.051474571228027344\n",
            "[ScoredPoint(id=613, version=0, score=0.698621392250061, payload={'text': '.\\n“Courtyard?” Keating repeated.\\n“Boys marching. Clapping in unison...”\\n“Oh that. That was an exercise to prove a point. About the\\nevils of conformity. I... ”\\n“John, the curriculum here is set. It’s proven. It works'}, vector=None, shard_key=None, order_value=None)]\n"
          ]
        }
      ]
    }
  ]
}