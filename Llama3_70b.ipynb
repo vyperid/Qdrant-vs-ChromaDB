{
  "nbformat": 4,
  "nbformat_minor": 0,
  "metadata": {
    "colab": {
      "provenance": [],
      "authorship_tag": "ABX9TyOeHrYsrBCZdKxEk1x/23ks",
      "include_colab_link": true
    },
    "kernelspec": {
      "name": "python3",
      "display_name": "Python 3"
    },
    "language_info": {
      "name": "python"
    }
  },
  "cells": [
    {
      "cell_type": "markdown",
      "metadata": {
        "id": "view-in-github",
        "colab_type": "text"
      },
      "source": [
        "<a href=\"https://colab.research.google.com/github/vyperid/Qdrant-vs-ChromaDB/blob/main/Llama3_70b.ipynb\" target=\"_parent\"><img src=\"https://colab.research.google.com/assets/colab-badge.svg\" alt=\"Open In Colab\"/></a>"
      ]
    },
    {
      "cell_type": "code",
      "source": [
        "!pip install -q replicate #helps get access to the hosted version of the llama 2 model, otherwise we can't run it in the colab notebook cpu version"
      ],
      "metadata": {
        "id": "r1JBd8a-BhWt",
        "colab": {
          "base_uri": "https://localhost:8080/"
        },
        "outputId": "33688d37-5a98-402b-93a6-99dfb2e7bec7"
      },
      "execution_count": 1,
      "outputs": [
        {
          "output_type": "stream",
          "name": "stdout",
          "text": [
            "\u001b[2K     \u001b[90m━━━━━━━━━━━━━━━━━━━━━━━━━━━━━━━━━━━━━━━━\u001b[0m \u001b[32m42.5/42.5 kB\u001b[0m \u001b[31m1.5 MB/s\u001b[0m eta \u001b[36m0:00:00\u001b[0m\n",
            "\u001b[2K     \u001b[90m━━━━━━━━━━━━━━━━━━━━━━━━━━━━━━━━━━━━━━━━\u001b[0m \u001b[32m75.6/75.6 kB\u001b[0m \u001b[31m3.5 MB/s\u001b[0m eta \u001b[36m0:00:00\u001b[0m\n",
            "\u001b[2K     \u001b[90m━━━━━━━━━━━━━━━━━━━━━━━━━━━━━━━━━━━━━━━━\u001b[0m \u001b[32m77.9/77.9 kB\u001b[0m \u001b[31m9.4 MB/s\u001b[0m eta \u001b[36m0:00:00\u001b[0m\n",
            "\u001b[2K     \u001b[90m━━━━━━━━━━━━━━━━━━━━━━━━━━━━━━━━━━━━━━━━\u001b[0m \u001b[32m58.3/58.3 kB\u001b[0m \u001b[31m6.1 MB/s\u001b[0m eta \u001b[36m0:00:00\u001b[0m\n",
            "\u001b[?25h"
          ]
        }
      ]
    },
    {
      "cell_type": "code",
      "source": [
        "import os\n",
        "import time"
      ],
      "metadata": {
        "id": "I6S23C8pB827"
      },
      "execution_count": 15,
      "outputs": []
    },
    {
      "cell_type": "code",
      "source": [
        "os.environ['REPLICATE_API_TOKEN'] = \"r8_UcrXR8Dd7dM6EA9fpHoxnm9UYXuZkBO1Nz7Cy\""
      ],
      "metadata": {
        "id": "FLvS83ffC2cD"
      },
      "execution_count": 3,
      "outputs": []
    },
    {
      "cell_type": "code",
      "source": [
        "import replicate"
      ],
      "metadata": {
        "id": "yRAomzVQDwBb"
      },
      "execution_count": 4,
      "outputs": []
    },
    {
      "cell_type": "code",
      "source": [
        "final_questions = [\n",
        "    \"Who is going to be Neil Perry's roommate?\",\n",
        "    \"What did Todd do when Neil left the room?\",\n",
        "    \"What was the Dead Poets Society according to Mr. Keating?\",\n",
        "    \"What did Pitts say when they got back to the Welton Campus from the woods?\",\n",
        "    \"What was McAllister doing when the marchers were out?\",\n",
        "    \"After Neil's play, how did his father behave when Mr. Keating reached and took Neil by his shoulders?\",\n",
        "    \"Where did Neil's mother sat with her eyes teared?\",\n",
        "    \"What does the light of knowledge represent at Welton Academy?\",\n",
        "    \"How was the weather when the boys, Ginny, Chris and Mr. Keating was out in the night?\",\n",
        "    \"Where did Neil open using the key?\"\n",
        "]"
      ],
      "metadata": {
        "id": "0RSX2Dhsicpz"
      },
      "execution_count": 5,
      "outputs": []
    },
    {
      "cell_type": "code",
      "source": [
        "pre_prompt = \"You are a helpful assistant that answers questions according to the books. You do not respond as 'User' or pretend to be 'User'. You only respond once as 'Assistant'.\"\n",
        "prompt_template = \"According to the Dead Poets Society book, can you bring me the most related part of the book for the question '{}' ?\""
      ],
      "metadata": {
        "id": "IDPjmrMKEC_i"
      },
      "execution_count": 6,
      "outputs": []
    },
    {
      "cell_type": "code",
      "source": [
        "prompts = [prompt_template.format(question) for question in final_questions]"
      ],
      "metadata": {
        "id": "x3zHVLgev0Gz"
      },
      "execution_count": 7,
      "outputs": []
    },
    {
      "cell_type": "code",
      "source": [
        "prompts"
      ],
      "metadata": {
        "colab": {
          "base_uri": "https://localhost:8080/"
        },
        "id": "tptICS8Lv-k0",
        "outputId": "524247b2-8b29-42be-fd4e-2de1ff52754a"
      },
      "execution_count": 8,
      "outputs": [
        {
          "output_type": "execute_result",
          "data": {
            "text/plain": [
              "[\"According to the Dead Poets Society book, can you bring me the most related part of the book for the question 'Who is going to be Neil Perry's roommate?' ?\",\n",
              " \"According to the Dead Poets Society book, can you bring me the most related part of the book for the question 'What did Todd do when Neil left the room?' ?\",\n",
              " \"According to the Dead Poets Society book, can you bring me the most related part of the book for the question 'What was the Dead Poets Society according to Mr. Keating?' ?\",\n",
              " \"According to the Dead Poets Society book, can you bring me the most related part of the book for the question 'What did Pitts say when they got back to the Welton Campus from the woods?' ?\",\n",
              " \"According to the Dead Poets Society book, can you bring me the most related part of the book for the question 'What was McAllister doing when the marchers were out?' ?\",\n",
              " \"According to the Dead Poets Society book, can you bring me the most related part of the book for the question 'After Neil's play, how did his father behave when Mr. Keating reached and took Neil by his shoulders?' ?\",\n",
              " \"According to the Dead Poets Society book, can you bring me the most related part of the book for the question 'Where did Neil's mother sat with her eyes teared?' ?\",\n",
              " \"According to the Dead Poets Society book, can you bring me the most related part of the book for the question 'What does the light of knowledge represent at Welton Academy?' ?\",\n",
              " \"According to the Dead Poets Society book, can you bring me the most related part of the book for the question 'How was the weather when the boys, Ginny, Chris and Mr. Keating was out in the night?' ?\",\n",
              " \"According to the Dead Poets Society book, can you bring me the most related part of the book for the question 'Where did Neil open using the key?' ?\"]"
            ]
          },
          "metadata": {},
          "execution_count": 8
        }
      ]
    },
    {
      "cell_type": "code",
      "source": [
        "prompts[1]"
      ],
      "metadata": {
        "colab": {
          "base_uri": "https://localhost:8080/",
          "height": 35
        },
        "id": "MJyuNgiY0aDj",
        "outputId": "d08b4aa1-bc5e-4950-db71-1c64a0419c15"
      },
      "execution_count": 9,
      "outputs": [
        {
          "output_type": "execute_result",
          "data": {
            "text/plain": [
              "\"According to the Dead Poets Society book, can you bring me the most related part of the book for the question 'What did Todd do when Neil left the room?' ?\""
            ],
            "application/vnd.google.colaboratory.intrinsic+json": {
              "type": "string"
            }
          },
          "metadata": {},
          "execution_count": 9
        }
      ]
    },
    {
      "cell_type": "code",
      "source": [
        "for prompt in prompts:\n",
        "  start = time.time()\n",
        "  output = replicate.run('meta/meta-llama-3-70b-instruct:fbfb20b472b2f3bdd101412a9f70a0ed4fc0ced78a77ff00970ee7a2383c575d', # LLM model\n",
        "                        input={\"prompt\": f\"{pre_prompt} {prompt} Assistant: \", # Prompts\n",
        "                        \"temperature\":0.1, \"top_p\":0.9, \"max_length\":128, \"repetition_penalty\":1})\n",
        "  end = time.time()\n",
        "\n",
        "  response = \" \"\n",
        "\n",
        "  for item in output:\n",
        "    response += item\n",
        "\n",
        "  print(\"-------\")\n",
        "  print(f\"Time taken: {end - start}\")\n",
        "  print(response)"
      ],
      "metadata": {
        "colab": {
          "base_uri": "https://localhost:8080/"
        },
        "id": "zkTVMSYjwGEW",
        "outputId": "0c2d9448-e526-4186-ea46-578d8f5536a3"
      },
      "execution_count": 16,
      "outputs": [
        {
          "output_type": "stream",
          "name": "stdout",
          "text": [
            "-------\n",
            "Time taken: 0.3434262275695801\n",
            " \n",
            "\n",
            "According to the Dead Poets Society book by N.H. Kleinbaum, the answer to your question can be found in Chapter 3:\n",
            "\n",
            "\"Neil Perry, a boy with a shy smile and a thatch of black hair, was assigned to be Todd's roommate.\"\n",
            "\n",
            "So, Neil Perry's roommate is going to be Todd Anderson.\n",
            "-------\n",
            "Time taken: 0.256075382232666\n",
            " \n",
            "\n",
            "According to the Dead Poets Society book by N.H. Kleinbaum, when Neil left the room, Todd \"sat frozen, his eyes fixed on the door as if he could will Neil back into the room\" (Chapter 10).\n",
            "-------\n",
            "Time taken: 0.2567112445831299\n",
            " \n",
            "\n",
            "According to the Dead Poets Society book by N.H. Kleinbaum, here's the most relevant part related to your question:\n",
            "\n",
            "\"'Carpe diem. Seize the day, boys. Make your lives extraordinary.' Mr. Keating's eyes twinkled. 'The Dead Poets Society, which I founded in my senior year at Welton, was dedicated to sucking the marrow out of life. We didn't just read poetry, we lived it. We breathed it. We let it consume us. And in the process, we discovered ourselves.'\"\n",
            "\n",
            "This passage highlights Mr. Keating's explanation of the Dead Poets Society, emphasizing its purpose and the values it stood for.\n",
            "-------\n",
            "Time taken: 0.28293681144714355\n",
            " \n",
            "\n",
            "According to the Dead Poets Society book by N.H. Kleinbaum, when they got back to the Welton Campus from the woods, Pitts said: \"I'm telling my father about this, Neil. I'm telling him everything.\" (Chapter 5)\n",
            "-------\n",
            "Time taken: 0.23937010765075684\n",
            " \n",
            "\n",
            "According to the Dead Poets Society book by N.H. Kleinbaum, when the marchers were out, McAllister was \"sitting at his desk, grading papers\" (Chapter 5).\n",
            "-------\n",
            "Time taken: 0.23823022842407227\n",
            " \n",
            "\n",
            "According to the Dead Poets Society book by N.H. Kleinbaum, after Neil's play, when Mr. Keating reached and took Neil by his shoulders, Neil's father, Mr. Perry, \"stood stiffly, his face a mixture of anger and disappointment\" (Chapter 10).\n",
            "-------\n",
            "Time taken: 0.22628331184387207\n",
            " \n",
            "\n",
            "According to the Dead Poets Society book by N.H. Kleinbaum, the relevant part related to the question is:\n",
            "\n",
            "\"The night of the play, Neil's mother sat in the audience, her eyes brimming with tears, as her son took the stage.\"\n",
            "\n",
            "This scene takes place during the school's production of A Midsummer Night's Dream, where Neil plays the role of Puck.\n",
            "-------\n",
            "Time taken: 0.23511409759521484\n",
            " \n",
            "\n",
            "According to the Dead Poets Society book by N.H. Kleinbaum, the light of knowledge represents the pursuit of individualism, freedom, and nonconformity at Welton Academy. This is evident in the scene where Mr. Keating, the unorthodox English teacher, takes his students to the courtyard at night and has them stand on their desks to see the world from a different perspective. He says, \"Carpe diem. Seize the day, boys. Make your lives extraordinary.\" (Chapter 5)\n",
            "\n",
            "In this context, the light of knowledge symbolizes the illumination of one's mind, encouraging students to challenge the traditional and restrictive norms of Welton Academy, and to find their own voice and passion. By standing on their desks, the boys are literally and figuratively elevating themselves to gain a new perspective, which represents their desire to break free from the constraints of their rigid educational environment and to seek knowledge and understanding on their own terms.\n",
            "-------\n",
            "Time taken: 0.24622583389282227\n",
            " \n",
            "\n",
            "I'm happy to help! However, I must correct you - there is no character named Ginny in the Dead Poets Society book. The characters you're referring to are likely Todd, Neil, Knox, and Mr. Keating. \n",
            "\n",
            "According to the book, on the night when the boys sneak out to the woods to recreate the Dead Poets Society, the weather is described as follows:\n",
            "\n",
            "\"The night was warm, the air filled with the sweet scent of blooming flowers and fresh-cut grass.\" (Chapter 5)\n",
            "\n",
            "This is the most relevant part of the book that describes the weather on that particular night.\n",
            "-------\n",
            "Time taken: 0.243377685546875\n",
            " \n",
            "\n",
            "According to the Dead Poets Society book by N.H. Kleinbaum, the relevant part related to the question \"Where did Neil open using the key?\" is:\n",
            "\n",
            "\"...Neil inserted the key into the old lock and turned it. The door creaked open, revealing a dusty, dimly lit room that seemed to have been undisturbed for years. The walls were lined with old books, and in the center of the room, a large wooden desk sat, covered with papers and quills.\"\n",
            "\n",
            "This passage suggests that Neil opened the door to the secret cave using the key, which led to a hidden room filled with old books and a wooden desk.\n"
          ]
        }
      ]
    }
  ]
}