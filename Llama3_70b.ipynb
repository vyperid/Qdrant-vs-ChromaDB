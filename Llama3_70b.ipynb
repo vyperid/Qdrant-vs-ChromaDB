{
  "nbformat": 4,
  "nbformat_minor": 0,
  "metadata": {
    "colab": {
      "provenance": [],
      "authorship_tag": "ABX9TyNlmqFriXsuIRNPZ3Y28lTx",
      "include_colab_link": true
    },
    "kernelspec": {
      "name": "python3",
      "display_name": "Python 3"
    },
    "language_info": {
      "name": "python"
    }
  },
  "cells": [
    {
      "cell_type": "markdown",
      "metadata": {
        "id": "view-in-github",
        "colab_type": "text"
      },
      "source": [
        "<a href=\"https://colab.research.google.com/github/vyperid/Qdrant-vs-ChromaDB/blob/main/Llama3_70b.ipynb\" target=\"_parent\"><img src=\"https://colab.research.google.com/assets/colab-badge.svg\" alt=\"Open In Colab\"/></a>"
      ]
    },
    {
      "cell_type": "code",
      "source": [
        "!pip install -q replicate #helps get access to the hosted version of the llama 2 model, otherwise we can't run it in the colab notebook cpu version"
      ],
      "metadata": {
        "id": "r1JBd8a-BhWt"
      },
      "execution_count": 2,
      "outputs": []
    },
    {
      "cell_type": "code",
      "source": [
        "import os"
      ],
      "metadata": {
        "id": "I6S23C8pB827"
      },
      "execution_count": 3,
      "outputs": []
    },
    {
      "cell_type": "code",
      "source": [
        "os.environ['REPLICATE_API_TOKEN'] = \"\""
      ],
      "metadata": {
        "id": "FLvS83ffC2cD"
      },
      "execution_count": 4,
      "outputs": []
    },
    {
      "cell_type": "code",
      "source": [
        "import replicate"
      ],
      "metadata": {
        "id": "yRAomzVQDwBb"
      },
      "execution_count": 5,
      "outputs": []
    },
    {
      "cell_type": "code",
      "source": [
        "pre_prompt = \"You are a helpful assistant that answers questions according to the books. You do not respond as 'User' or pretend to be 'User'. You only respond once as 'Assistant'.\"\n",
        "prompt = \"According to the Dead Poets Society book, what does carpe diem mean?\""
      ],
      "metadata": {
        "id": "IDPjmrMKEC_i"
      },
      "execution_count": 6,
      "outputs": []
    },
    {
      "cell_type": "code",
      "source": [
        "output = replicate.run('meta/meta-llama-3-70b-instruct:fbfb20b472b2f3bdd101412a9f70a0ed4fc0ced78a77ff00970ee7a2383c575d', # LLM model\n",
        "                        input={\"prompt\": f\"{pre_prompt} {prompt} Assistant: \", # Prompts\n",
        "                        \"temperature\":0.1, \"top_p\":0.9, \"max_length\":128, \"repetition_penalty\":1})"
      ],
      "metadata": {
        "id": "qF_d-QJIEeJo"
      },
      "execution_count": 16,
      "outputs": []
    },
    {
      "cell_type": "code",
      "source": [
        "output"
      ],
      "metadata": {
        "colab": {
          "base_uri": "https://localhost:8080/"
        },
        "id": "ydyEN1YqF7bq",
        "outputId": "ece5a37f-fd8a-4b31-c2f0-f69cc830ef70"
      },
      "execution_count": 17,
      "outputs": [
        {
          "output_type": "execute_result",
          "data": {
            "text/plain": [
              "<generator object Prediction.output_iterator at 0x7e0a17ec3300>"
            ]
          },
          "metadata": {},
          "execution_count": 17
        }
      ]
    },
    {
      "cell_type": "code",
      "source": [
        "response = \" \"\n",
        "\n",
        "for item in output:\n",
        "  response += item\n",
        "\n",
        "print(response)"
      ],
      "metadata": {
        "colab": {
          "base_uri": "https://localhost:8080/"
        },
        "id": "vO-y_kbkGBi5",
        "outputId": "fd7e76bc-cf36-47ad-d591-bfaaa01181af"
      },
      "execution_count": 18,
      "outputs": [
        {
          "output_type": "stream",
          "name": "stdout",
          "text": [
            " \n",
            "\n",
            "According to the Dead Poets Society book, \"carpe diem\" is a Latin phrase that means \"seize the day.\" It is a philosophy that encourages people to make the most of the present moment and not let opportunities slip away. The phrase is often used to urge individuals to take action, pursue their passions, and live life to the fullest.\n"
          ]
        }
      ]
    }
  ]
}