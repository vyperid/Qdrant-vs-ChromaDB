{
  "nbformat": 4,
  "nbformat_minor": 0,
  "metadata": {
    "colab": {
      "provenance": [],
      "authorship_tag": "ABX9TyO3IrbrFyGi0mU5SEUlnqC/",
      "include_colab_link": true
    },
    "kernelspec": {
      "name": "python3",
      "display_name": "Python 3"
    },
    "language_info": {
      "name": "python"
    }
  },
  "cells": [
    {
      "cell_type": "markdown",
      "metadata": {
        "id": "view-in-github",
        "colab_type": "text"
      },
      "source": [
        "<a href=\"https://colab.research.google.com/github/vyperid/Qdrant-vs-ChromaDB/blob/main/Llama3_70b.ipynb\" target=\"_parent\"><img src=\"https://colab.research.google.com/assets/colab-badge.svg\" alt=\"Open In Colab\"/></a>"
      ]
    },
    {
      "cell_type": "code",
      "source": [
        "!pip install -q replicate #helps get access to the hosted version of the llama 2 model, otherwise we can't run it in the colab notebook cpu version"
      ],
      "metadata": {
        "id": "r1JBd8a-BhWt",
        "colab": {
          "base_uri": "https://localhost:8080/"
        },
        "outputId": "16436428-a865-42c7-8381-a30af715b3ef"
      },
      "execution_count": 2,
      "outputs": [
        {
          "output_type": "stream",
          "name": "stdout",
          "text": [
            "\u001b[?25l     \u001b[90m━━━━━━━━━━━━━━━━━━━━━━━━━━━━━━━━━━━━━━━━\u001b[0m \u001b[32m0.0/42.5 kB\u001b[0m \u001b[31m?\u001b[0m eta \u001b[36m-:--:--\u001b[0m\r\u001b[2K     \u001b[90m━━━━━━━━━━━━━━━━━━━━━━━━━━━━━━━━━━━━━━━━\u001b[0m \u001b[32m42.5/42.5 kB\u001b[0m \u001b[31m2.0 MB/s\u001b[0m eta \u001b[36m0:00:00\u001b[0m\n",
            "\u001b[2K     \u001b[90m━━━━━━━━━━━━━━━━━━━━━━━━━━━━━━━━━━━━━━━━\u001b[0m \u001b[32m75.6/75.6 kB\u001b[0m \u001b[31m3.5 MB/s\u001b[0m eta \u001b[36m0:00:00\u001b[0m\n",
            "\u001b[2K     \u001b[90m━━━━━━━━━━━━━━━━━━━━━━━━━━━━━━━━━━━━━━━━\u001b[0m \u001b[32m77.9/77.9 kB\u001b[0m \u001b[31m5.1 MB/s\u001b[0m eta \u001b[36m0:00:00\u001b[0m\n",
            "\u001b[2K     \u001b[90m━━━━━━━━━━━━━━━━━━━━━━━━━━━━━━━━━━━━━━━━\u001b[0m \u001b[32m58.3/58.3 kB\u001b[0m \u001b[31m5.9 MB/s\u001b[0m eta \u001b[36m0:00:00\u001b[0m\n",
            "\u001b[?25h"
          ]
        }
      ]
    },
    {
      "cell_type": "code",
      "source": [
        "import os\n",
        "import time"
      ],
      "metadata": {
        "id": "I6S23C8pB827"
      },
      "execution_count": 3,
      "outputs": []
    },
    {
      "cell_type": "code",
      "source": [
        "os.environ['REPLICATE_API_TOKEN'] = \"\""
      ],
      "metadata": {
        "id": "FLvS83ffC2cD"
      },
      "execution_count": 4,
      "outputs": []
    },
    {
      "cell_type": "code",
      "source": [
        "import replicate"
      ],
      "metadata": {
        "id": "yRAomzVQDwBb"
      },
      "execution_count": 5,
      "outputs": []
    },
    {
      "cell_type": "code",
      "source": [
        "final_questions = [\n",
        "    \"Who is going to be Neil Perry's roommate?\",\n",
        "    \"What did Todd do when Neil left the room?\",\n",
        "    \"What was the Dead Poets Society according to Mr. Keating?\",\n",
        "    \"What did Pitts say when they got back to the Welton Campus from the woods?\",\n",
        "    \"What was McAllister doing when the marchers were out?\",\n",
        "    \"After Neil's play, how did his father behave when Mr. Keating reached and took Neil by his shoulders?\",\n",
        "    \"Where did Neil's mother sat with her eyes teared?\",\n",
        "    \"What does the light of knowledge represent at Welton Academy?\",\n",
        "    \"How was the weather when the boys, Ginny, Chris and Mr. Keating was out in the night?\",\n",
        "    \"Where did Neil open using the key?\",\n",
        "    \"Which type of an editor Neil was?\",\n",
        "    \"What was Todd writing when Knox questioned him?\",\n",
        "    \"How did Knox wanted to read the poem to Chris?\",\n",
        "    \"What was Neil's reaction when he heard that his father is going to change his school?\",\n",
        "    \"Where did the Dead Poets Society go after Neil's play?\"\n",
        "]"
      ],
      "metadata": {
        "id": "0RSX2Dhsicpz"
      },
      "execution_count": 11,
      "outputs": []
    },
    {
      "cell_type": "code",
      "source": [
        "pre_prompt = \"You are a helpful assistant that answers questions according to the books. You do not respond as 'User' or pretend to be 'User'. You only respond once as 'Assistant'.\"\n",
        "prompt_template = \"According to the Dead Poets Society book, can you bring me the most related part of the book for the question '{}' ?\""
      ],
      "metadata": {
        "id": "IDPjmrMKEC_i"
      },
      "execution_count": 12,
      "outputs": []
    },
    {
      "cell_type": "code",
      "source": [
        "prompts = [prompt_template.format(question) for question in final_questions]"
      ],
      "metadata": {
        "id": "x3zHVLgev0Gz"
      },
      "execution_count": 13,
      "outputs": []
    },
    {
      "cell_type": "code",
      "source": [
        "prompts"
      ],
      "metadata": {
        "colab": {
          "base_uri": "https://localhost:8080/"
        },
        "id": "tptICS8Lv-k0",
        "outputId": "743eee3c-7d69-4e5b-9934-fdcfc23f99c7"
      },
      "execution_count": 14,
      "outputs": [
        {
          "output_type": "execute_result",
          "data": {
            "text/plain": [
              "[\"According to the Dead Poets Society book, can you bring me the most related part of the book for the question 'Who is going to be Neil Perry's roommate?' ?\",\n",
              " \"According to the Dead Poets Society book, can you bring me the most related part of the book for the question 'What did Todd do when the boys left the room?' ?\",\n",
              " \"According to the Dead Poets Society book, can you bring me the most related part of the book for the question 'What was the Dead Poets Society according to Mr. Keating?' ?\",\n",
              " \"According to the Dead Poets Society book, can you bring me the most related part of the book for the question 'What did Pitts say when they got back to the Welton Campus from the woods?' ?\",\n",
              " \"According to the Dead Poets Society book, can you bring me the most related part of the book for the question 'What was McAllister doing when the marchers were out?' ?\",\n",
              " \"According to the Dead Poets Society book, can you bring me the most related part of the book for the question 'After Neil's play, how did his father behave when Mr. Keating reached and took Neil by his shoulders?' ?\",\n",
              " \"According to the Dead Poets Society book, can you bring me the most related part of the book for the question 'Where did Neil's mother sat with her eyes teared?' ?\",\n",
              " \"According to the Dead Poets Society book, can you bring me the most related part of the book for the question 'What does the light of knowledge represent at Welton Academy?' ?\",\n",
              " \"According to the Dead Poets Society book, can you bring me the most related part of the book for the question 'How was the weather when the boys, Ginny, Chris and Mr. Keating was out in the night?' ?\",\n",
              " \"According to the Dead Poets Society book, can you bring me the most related part of the book for the question 'Where did Neil open using the key?' ?\",\n",
              " \"According to the Dead Poets Society book, can you bring me the most related part of the book for the question 'Which type of an editor Neil was?' ?\",\n",
              " \"According to the Dead Poets Society book, can you bring me the most related part of the book for the question 'What was Todd writing when Knox questioned him?' ?\",\n",
              " \"According to the Dead Poets Society book, can you bring me the most related part of the book for the question 'How did Knox wanted to read the poem to Chris?' ?\",\n",
              " \"According to the Dead Poets Society book, can you bring me the most related part of the book for the question 'What was Neil's reaction when he heard that his father is going to change his school?' ?\",\n",
              " \"According to the Dead Poets Society book, can you bring me the most related part of the book for the question 'Where did the Dead Poets Society go after Neil's play?' ?\"]"
            ]
          },
          "metadata": {},
          "execution_count": 14
        }
      ]
    },
    {
      "cell_type": "code",
      "source": [
        "for prompt in prompts:\n",
        "  start = time.time()\n",
        "  output = replicate.run('meta/meta-llama-3-70b-instruct:fbfb20b472b2f3bdd101412a9f70a0ed4fc0ced78a77ff00970ee7a2383c575d', # LLM model\n",
        "                        input={\"prompt\": f\"{pre_prompt} {prompt} Assistant: \", # Prompts\n",
        "                        \"temperature\":0.1, \"top_p\":0.9, \"max_length\":128, \"repetition_penalty\":1})\n",
        "  end = time.time()\n",
        "\n",
        "  response = \" \"\n",
        "\n",
        "  for item in output:\n",
        "    response += item\n",
        "\n",
        "  print(\"-------\")\n",
        "  print(f\"Time taken: {end - start}\")\n",
        "  print(response)"
      ],
      "metadata": {
        "colab": {
          "base_uri": "https://localhost:8080/"
        },
        "id": "zkTVMSYjwGEW",
        "outputId": "002ef4ef-64f7-47ff-96bc-760fe3f63c00"
      },
      "execution_count": 15,
      "outputs": [
        {
          "output_type": "stream",
          "name": "stdout",
          "text": [
            "-------\n",
            "Time taken: 0.7362337112426758\n",
            " \n",
            "\n",
            "According to the Dead Poets Society book by N.H. Kleinbaum, the answer to your question can be found in Chapter 3:\n",
            "\n",
            "\"Neil Perry, a boy with a shy smile and a thatch of black hair, was assigned to be Todd's roommate.\"\n",
            "\n",
            "So, Neil Perry's roommate is going to be Todd Anderson.\n",
            "-------\n",
            "Time taken: 0.3567197322845459\n",
            " \n",
            "\n",
            "According to the Dead Poets Society book by N.H. Kleinbaum, when the boys left the room, Todd Anderson \"sat frozen, his eyes fixed on the empty chairs\" (Chapter 5).\n",
            "-------\n",
            "Time taken: 0.3743124008178711\n",
            " \n",
            "\n",
            "According to the Dead Poets Society book by N.H. Kleinbaum, here's the most relevant part related to your question:\n",
            "\n",
            "\"'Carpe - hear it, seize the day, make your lives extraordinary.' He wrote it on the blackboard, and then turned to face them. 'The Dead Poets Society, which I hope to establish at Welton, is dedicated to pursuing this very notion. We will not be confined by the conventional, the mundane, the ordinary. We will seize the day, indeed.'\"\n",
            "\n",
            "- Mr. Keating, Chapter 5\n",
            "-------\n",
            "Time taken: 0.35137295722961426\n",
            " \n",
            "\n",
            "According to the Dead Poets Society book by N.H. Kleinbaum, when they got back to the Welton Campus from the woods, Pitts said: \"I'm telling my father about this, Neil. I'm telling him everything.\" (Chapter 5)\n",
            "-------\n",
            "Time taken: 0.4338536262512207\n",
            " \n",
            "\n",
            "According to the Dead Poets Society book by N.H. Kleinbaum, when the marchers were out, McAllister was \"sitting at his desk, grading papers\" (Chapter 5).\n",
            "-------\n",
            "Time taken: 0.36944150924682617\n",
            " \n",
            "\n",
            "According to the Dead Poets Society book by N.H. Kleinbaum, after Neil's play, when Mr. Keating reached and took Neil by his shoulders, Neil's father, Mr. Perry, \"stood stiffly, his face a mixture of anger and disappointment\" (Chapter 10).\n",
            "-------\n",
            "Time taken: 0.36562466621398926\n",
            " \n",
            "\n",
            "According to the Dead Poets Society book by N.H. Kleinbaum, the relevant part related to the question \"Where did Neil's mother sat with her eyes teared?\" is:\n",
            "\n",
            "\"...Neil's mother sat in the living room, her eyes red and puffy from crying.\"\n",
            "\n",
            "This scene takes place when Neil's parents discover his involvement in the Dead Poets Society and are worried about his future.\n",
            "-------\n",
            "Time taken: 0.3734169006347656\n",
            " \n",
            "\n",
            "According to the Dead Poets Society book by N.H. Kleinbaum, the light of knowledge represents the pursuit of individualism, freedom, and nonconformity at Welton Academy. This is evident in the scene where Mr. Keating, the unorthodox English teacher, takes his students to the courtyard at night and has them stand on their desks to see the world from a different perspective. He says, \"Carpe diem. Seize the day, boys. Make your lives extraordinary.\" (Chapter 5)\n",
            "\n",
            "In this context, the light of knowledge symbolizes the illumination of one's mind, encouraging students to think for themselves, challenge authority, and find their own voice. It represents the power of education to transform and liberate individuals, which is a central theme of the book.\n",
            "-------\n",
            "Time taken: 0.3567545413970947\n",
            " \n",
            "\n",
            "I'm happy to help! However, I must correct you - there is no character named Ginny in the Dead Poets Society book. The characters you're referring to are likely Todd, Neil, Knox, and Mr. Keating. \n",
            "\n",
            "According to the book, on the night when the boys sneak out to the woods to recreate the Dead Poets Society, the weather is described as follows:\n",
            "\n",
            "\"The night was warm, the air filled with the sweet scent of blooming flowers and fresh-cut grass.\" (Chapter 5)\n",
            "\n",
            "This is the most relevant part of the book that describes the weather on that particular night.\n",
            "-------\n",
            "Time taken: 0.34691548347473145\n",
            " \n",
            "\n",
            "According to the Dead Poets Society book by N.H. Kleinbaum, the relevant part related to the question \"Where did Neil open using the key?\" is:\n",
            "\n",
            "\"...Neil inserted the key into the old lock and turned it. The door creaked open, revealing a dusty, dimly lit room that seemed to have been undisturbed for years. The walls were lined with old books, and in the center of the room, a large wooden desk sat, covered with papers and quills.\"\n",
            "\n",
            "This passage suggests that Neil opened the door to the secret cave using the key, which led to a hidden room filled with old books and a wooden desk.\n",
            "-------\n",
            "Time taken: 0.33898210525512695\n",
            " \n",
            "\n",
            "According to the Dead Poets Society book by N.H. Kleinbaum, Neil Perry was the Assistant Editor of the Welton Academy's school newspaper, The Dial.\n",
            "-------\n",
            "Time taken: 0.36294054985046387\n",
            " \n",
            "\n",
            "According to the Dead Poets Society book by N.H. Kleinbaum, the relevant part is:\n",
            "\n",
            "\"'What's that you're writing, Anderson?' Knox asked, peering over Todd's shoulder. Todd quickly covered his paper, his face reddening. 'Nothing,' he muttered.\"\n",
            "\n",
            "So, Todd was writing something he didn't want to share, and Knox questioned him about it.\n",
            "-------\n",
            "Time taken: 0.3616788387298584\n",
            " \n",
            "\n",
            "According to the Dead Poets Society book by N.H. Kleinbaum, the relevant part related to your question is:\n",
            "\n",
            "\"Knox, who had been too shy to read his poem aloud in class, now wanted to read it to Chris. He felt that Chris, who had been so kind to him, would understand the emotions he had expressed.\"\n",
            "\n",
            "This passage highlights Knox's desire to share his poem with Chris, whom he trusts and feels comfortable with.\n",
            "-------\n",
            "Time taken: 0.40358829498291016\n",
            " \n",
            "\n",
            "According to the Dead Poets Society book by N.H. Kleinbaum, when Neil Perry heard that his father was going to take him out of Welton Academy and enroll him in a military school, he was devastated. Here's the relevant passage:\n",
            "\n",
            "\"'Neil, I've been thinking,' Mr. Perry said, his voice firm but controlled. 'You're not doing well here. You're not living up to your potential. I've decided to take you out of Welton and enroll you in Braighton Military Academy.'\n",
            "\n",
            "Neil's face went white. He looked as if he had been punched in the stomach. 'No, Father,' he whispered, his eyes pleading.\"\n",
            "\n",
            "(Chapter 10, Dead Poets Society by N.H. Kleinbaum)\n",
            "-------\n",
            "Time taken: 0.35103678703308105\n",
            " \n",
            "\n",
            "According to the Dead Poets Society book by N.H. Kleinbaum, after Neil's play, the Dead Poets Society went to the cave. Specifically, it is mentioned in Chapter 10: \"That night, after the play, the Dead Poets Society reconvened in the cave, exhilarated by their friend's triumph.\"\n"
          ]
        }
      ]
    }
  ]
}