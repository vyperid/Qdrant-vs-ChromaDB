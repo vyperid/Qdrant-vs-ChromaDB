{
  "nbformat": 4,
  "nbformat_minor": 0,
  "metadata": {
    "colab": {
      "provenance": []
    },
    "kernelspec": {
      "name": "python3",
      "display_name": "Python 3"
    },
    "language_info": {
      "name": "python"
    }
  },
  "cells": [
    {
      "cell_type": "code",
      "execution_count": null,
      "metadata": {
        "id": "OB1pWopAL-7d"
      },
      "outputs": [],
      "source": [
        "from qdrant_client import models, QdrantClient\n",
        "import torch\n",
        "from sentence_transformers import SentenceTransformer"
      ]
    },
    {
      "cell_type": "code",
      "source": [
        "source = \"Machine learning is revolutionizing many industries. In finance, algorithms are used to predict stock prices and optimize portfolios. In healthcare, AI helps analyze medical images and diagnose diseases more accurately. The applications of machine learning are vast and growing rapidly.\""
      ],
      "metadata": {
        "id": "zUJgXwkTqa1R"
      },
      "execution_count": null,
      "outputs": []
    },
    {
      "cell_type": "code",
      "source": [
        "test = \"Machine learning can be used in many fields from research to healthcare.\""
      ],
      "metadata": {
        "id": "hPWkhPZwrcRa"
      },
      "execution_count": null,
      "outputs": []
    },
    {
      "cell_type": "code",
      "source": [
        "qdrant = QdrantClient(\":memory:\")\n",
        "encoder = SentenceTransformer('all-MiniLM-L6-v2')"
      ],
      "metadata": {
        "id": "FJVgXjNiV2lJ"
      },
      "execution_count": null,
      "outputs": []
    },
    {
      "cell_type": "code",
      "source": [
        "qdrant.recreate_collection(\n",
        "    collection_name = \"myFirstCollection\",\n",
        "    vectors_config = models.VectorParams(size=encoder.get_sentence_embedding_dimension(), distance=models.Distance.COSINE)\n",
        ")"
      ],
      "metadata": {
        "colab": {
          "base_uri": "https://localhost:8080/"
        },
        "id": "LzeSlf0Ldegn",
        "outputId": "c7c748a8-7ac8-42e0-d15d-925fb9f94a32"
      },
      "execution_count": null,
      "outputs": [
        {
          "output_type": "stream",
          "name": "stderr",
          "text": [
            "<ipython-input-10-199a8e872173>:1: DeprecationWarning: `recreate_collection` method is deprecated and will be removed in the future. Use `collection_exists` to check collection existence and `create_collection` instead.\n",
            "  qdrant.recreate_collection(\n"
          ]
        },
        {
          "output_type": "execute_result",
          "data": {
            "text/plain": [
              "True"
            ]
          },
          "metadata": {},
          "execution_count": 10
        }
      ]
    },
    {
      "cell_type": "code",
      "source": [
        "qdrant.upload_records(\n",
        "    collection_name = \"myFirstCollection\",\n",
        "    records = [\n",
        "        models.Record(\n",
        "            id=1,\n",
        "            vector=encoder.encode(source).tolist(),\n",
        "            payload={'source':source}\n",
        "        )\n",
        "    ]\n",
        ")"
      ],
      "metadata": {
        "colab": {
          "base_uri": "https://localhost:8080/"
        },
        "id": "q__T9BpkgEUZ",
        "outputId": "5cae312d-f50f-453c-93cd-04f2f6948278"
      },
      "execution_count": null,
      "outputs": [
        {
          "output_type": "stream",
          "name": "stderr",
          "text": [
            "<ipython-input-14-fffb89b8eacd>:1: DeprecationWarning: `upload_records` is deprecated, use `upload_points` instead\n",
            "  qdrant.upload_records(\n"
          ]
        }
      ]
    },
    {
      "cell_type": "code",
      "source": [
        "results = qdrant.search(\n",
        "    collection_name = \"myFirstCollection\",\n",
        "    query_vector = encoder.encode(test).tolist(),\n",
        "    limit=1\n",
        ")"
      ],
      "metadata": {
        "id": "pzB76_fdrn2k"
      },
      "execution_count": null,
      "outputs": []
    },
    {
      "cell_type": "code",
      "source": [
        "results"
      ],
      "metadata": {
        "colab": {
          "base_uri": "https://localhost:8080/"
        },
        "id": "uSaVXyGKtbDO",
        "outputId": "62a6b856-57f7-4f80-a92a-6cc1c7203816"
      },
      "execution_count": null,
      "outputs": [
        {
          "output_type": "execute_result",
          "data": {
            "text/plain": [
              "[ScoredPoint(id=1, version=0, score=0.7967212887500392, payload={'source': 'Machine learning is revolutionizing many industries. In finance, algorithms are used to predict stock prices and optimize portfolios. In healthcare, AI helps analyze medical images and diagnose diseases more accurately. The applications of machine learning are vast and growing rapidly.'}, vector=None, shard_key=None)]"
            ]
          },
          "metadata": {},
          "execution_count": 22
        }
      ]
    },
    {
      "cell_type": "code",
      "source": [
        "for result in results:\n",
        "  print(result.score)"
      ],
      "metadata": {
        "colab": {
          "base_uri": "https://localhost:8080/"
        },
        "id": "xQQTXEKks2yS",
        "outputId": "1c27cfba-4296-402f-be46-8d5c6779c8fe"
      },
      "execution_count": null,
      "outputs": [
        {
          "output_type": "stream",
          "name": "stdout",
          "text": [
            "0.7967212887500392\n"
          ]
        }
      ]
    }
  ]
}