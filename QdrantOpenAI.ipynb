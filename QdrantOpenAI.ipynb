{
  "nbformat": 4,
  "nbformat_minor": 0,
  "metadata": {
    "colab": {
      "provenance": [],
      "authorship_tag": "ABX9TyORtCmt8+gn8itlolZmTBSU",
      "include_colab_link": true
    },
    "kernelspec": {
      "name": "python3",
      "display_name": "Python 3"
    },
    "language_info": {
      "name": "python"
    }
  },
  "cells": [
    {
      "cell_type": "markdown",
      "metadata": {
        "id": "view-in-github",
        "colab_type": "text"
      },
      "source": [
        "<a href=\"https://colab.research.google.com/github/vyperid/Qdrant-vs-ChromaDB/blob/main/QdrantOpenAI.ipynb\" target=\"_parent\"><img src=\"https://colab.research.google.com/assets/colab-badge.svg\" alt=\"Open In Colab\"/></a>"
      ]
    },
    {
      "cell_type": "code",
      "execution_count": null,
      "metadata": {
        "id": "oSu_xrRuWoWH"
      },
      "outputs": [],
      "source": [
        "!pip install -q PyMuPDF\n",
        "!pip install -q langchain-text-splitters\n",
        "!pip install -q qdrant-client\n",
        "!pip install -q langchain\n",
        "!pip install -q openai\n",
        "!pip install -q langchain_community\n",
        "!pip install -q tiktoken"
      ]
    },
    {
      "cell_type": "code",
      "source": [
        "import pymupdf\n",
        "from langchain_text_splitters import RecursiveCharacterTextSplitter"
      ],
      "metadata": {
        "id": "YrynBwLaXZUT"
      },
      "execution_count": 2,
      "outputs": []
    },
    {
      "cell_type": "code",
      "source": [
        "def pdf_to_txt(pdf_path, output_path):\n",
        "  document = pymupdf.open(pdf_path)\n",
        "\n",
        "  text = \"\"\n",
        "\n",
        "  for page in range(len(document)):\n",
        "    page = document.load_page(page)\n",
        "    text += page.get_text()\n",
        "\n",
        "  with open(output_path, \"w\", encoding='utf-8') as f:\n",
        "    f.write(text)\n",
        "\n",
        "pdf_path = '/content/62f12134d4d3a-dead-poets-society.pdf'\n",
        "txt_path = 'deadpoets.txt'\n",
        "pdf_to_txt(pdf_path, txt_path)"
      ],
      "metadata": {
        "id": "_H3tbJDKYKCm"
      },
      "execution_count": 3,
      "outputs": []
    },
    {
      "cell_type": "code",
      "source": [
        "with open(\"/content/deadpoets.txt\") as f:\n",
        "  document = f.read()"
      ],
      "metadata": {
        "id": "2FA-4Mi8cwF3"
      },
      "execution_count": 4,
      "outputs": []
    },
    {
      "cell_type": "code",
      "source": [
        "text_splitter = RecursiveCharacterTextSplitter(\n",
        "    chunk_size=300,\n",
        "    chunk_overlap=100,\n",
        "    length_function=len,\n",
        "    is_separator_regex=True,\n",
        "    separators=[\"\\.\"]\n",
        ")"
      ],
      "metadata": {
        "id": "nR0eMkGCcx1e"
      },
      "execution_count": 5,
      "outputs": []
    },
    {
      "cell_type": "code",
      "source": [
        "text_chunks = text_splitter.split_text(document)"
      ],
      "metadata": {
        "id": "bGlZXdyZc1ZO"
      },
      "execution_count": 6,
      "outputs": []
    },
    {
      "cell_type": "code",
      "source": [
        "import os\n",
        "from langchain.llms import OpenAI\n",
        "from langchain.embeddings import OpenAIEmbeddings\n",
        "from qdrant_client import models, QdrantClient\n",
        "import time\n",
        "from qdrant_client.http import models\n",
        "from langchain.vectorstores import Qdrant"
      ],
      "metadata": {
        "id": "gAo_nd10c5TV"
      },
      "execution_count": 16,
      "outputs": []
    },
    {
      "cell_type": "code",
      "source": [
        "os.environ[\"OPENAI_API_KEY\"] = \"\""
      ],
      "metadata": {
        "id": "BnCFa4dCc9Cj"
      },
      "execution_count": 8,
      "outputs": []
    },
    {
      "cell_type": "code",
      "source": [
        "embedding_function = OpenAIEmbeddings()"
      ],
      "metadata": {
        "colab": {
          "base_uri": "https://localhost:8080/"
        },
        "id": "_wIMd91Xc-pD",
        "outputId": "9fb1796a-0b96-4380-db5c-b964e53a512e"
      },
      "execution_count": 9,
      "outputs": [
        {
          "output_type": "stream",
          "name": "stderr",
          "text": [
            "/usr/local/lib/python3.10/dist-packages/langchain_core/_api/deprecation.py:139: LangChainDeprecationWarning: The class `OpenAIEmbeddings` was deprecated in LangChain 0.0.9 and will be removed in 0.3.0. An updated version of the class exists in the langchain-openai package and should be used instead. To use it run `pip install -U langchain-openai` and import as `from langchain_openai import OpenAIEmbeddings`.\n",
            "  warn_deprecated(\n"
          ]
        }
      ]
    },
    {
      "cell_type": "code",
      "source": [
        "qdrant = QdrantClient(\":memory:\")"
      ],
      "metadata": {
        "id": "OtDYUeyFdF1C"
      },
      "execution_count": 13,
      "outputs": []
    },
    {
      "cell_type": "code",
      "source": [
        "qdrant.recreate_collection(\n",
        "    collection_name = \"deadpoetssociety\",\n",
        "    vectors_config = models.VectorParams(\n",
        "        size=1536,\n",
        "        distance=models.Distance.COSINE)\n",
        ")"
      ],
      "metadata": {
        "colab": {
          "base_uri": "https://localhost:8080/"
        },
        "id": "Vhu5Nbp_elLf",
        "outputId": "e70d5ae0-4fb2-4505-8445-8c579b4f3fa2"
      },
      "execution_count": 14,
      "outputs": [
        {
          "output_type": "stream",
          "name": "stderr",
          "text": [
            "<ipython-input-14-f5c86d4388d3>:1: DeprecationWarning: `recreate_collection` method is deprecated and will be removed in the future. Use `collection_exists` to check collection existence and `create_collection` instead.\n",
            "  qdrant.recreate_collection(\n"
          ]
        },
        {
          "output_type": "execute_result",
          "data": {
            "text/plain": [
              "True"
            ]
          },
          "metadata": {},
          "execution_count": 14
        }
      ]
    },
    {
      "cell_type": "code",
      "source": [
        "embedding = OpenAIEmbeddings()\n",
        "\n",
        "vector_store = Qdrant(\n",
        "    client = qdrant,\n",
        "    collection_name = \"deadpoetssociety\",\n",
        "    embeddings = embedding\n",
        ")\n",
        "\n",
        "vector_store.add_texts(text_chunks)"
      ],
      "metadata": {
        "id": "BKVMH0hVe4Bh"
      },
      "execution_count": null,
      "outputs": []
    },
    {
      "cell_type": "code",
      "source": [
        "def get_results(query):\n",
        "  query_embedding = embedding.embed_query(query)\n",
        "\n",
        "  results = qdrant.search(\n",
        "      collection_name=\"deadpoetssociety\",\n",
        "      query_vector=query_embedding,\n",
        "      query_filter=None,\n",
        "      limit=1\n",
        "  )\n",
        "  return results"
      ],
      "metadata": {
        "id": "ru6a1t8lz0uP"
      },
      "execution_count": 26,
      "outputs": []
    },
    {
      "cell_type": "code",
      "source": [
        "questions = [\n",
        "    \"Who is going to be Neil Perry's roommate?\",\n",
        "    \"What did Todd do when Neil left the room?\",\n",
        "    \"What was the Dead Poets Society according to Mr. Keating?\",\n",
        "    \"How did the juniors feel about their first physical education class?\",\n",
        "    \"What is Todd’s reaction to the pressure of attending Welton Academy?\",\n",
        "    \"How does Mr. Keating’s unconventional approach to teaching Latin influence the students?\",\n",
        "    \"Describe the atmosphere and activities during the Welton Academy’s opening ceremony.\",\n",
        "    \"How does the character of Neil Perry evolve through his interactions with his father, and how does this affect his decisions and actions at Welton Academy?\",\n",
        "    \"How does Mr. Keating’s philosophy of “Carpe Diem” challenge the traditional values taught at Welton Academy, and what are the implications for the students who embrace this philosophy?\",\n",
        "    \"Examine how the theme of conformity versus individuality is portrayed through the interactions between Mr. Keating and the students, particularly in the context of Welton Academy’s values.\"\n",
        "]"
      ],
      "metadata": {
        "id": "nEj1MQ1_fN8R"
      },
      "execution_count": 27,
      "outputs": []
    },
    {
      "cell_type": "code",
      "source": [
        "for question in questions:\n",
        "  start = time.time()\n",
        "  results = get_results(question)\n",
        "  end = time.time()\n",
        "  print(f\"Time taken: {end - start}\")\n",
        "  print(results)"
      ],
      "metadata": {
        "colab": {
          "base_uri": "https://localhost:8080/"
        },
        "id": "Td0tZowufXxI",
        "outputId": "4f842e33-2e0a-4d60-aa58-7ce3b48af1b9"
      },
      "execution_count": 29,
      "outputs": [
        {
          "output_type": "stream",
          "name": "stdout",
          "text": [
            "Time taken: 0.14249801635742188\n",
            "[ScoredPoint(id='9f614d2cf4e7441f881654cab330fefe', version=0, score=0.8489721572085389, payload={'page_content': '.\\n“I hear we’re going to be roommates,” he said. “I’m Neil\\nPerry.”\\n“Todd Anderson,” he replied softly. The boys walked in\\nawkward silence.\\n“Why’d you leave Balincrest?” Neil asked.\\n“My brother went here.”\\nNeil shook his head. “Oh, so you’re THAT Anderson.”\\nTodd shrugged and groaned', 'metadata': None}, vector=None, shard_key=None, order_value=None)]\n",
            "Time taken: 0.11868548393249512\n",
            "[ScoredPoint(id='1103c30f71194117808bda73a6b6ebc2', version=0, score=0.8825464034159893, payload={'page_content': '. Neil looked at the photo and noticed\\nthat Todd was slightly apart from the family group, with them\\nbut not really a part of them. Todd then unpacked an engraved\\nleather desk set and laid it out on his desk.\\nNeil plopped on his bed and leaned against the headboard', 'metadata': None}, vector=None, shard_key=None, order_value=None)]\n",
            "Time taken: 0.09729123115539551\n",
            "[ScoredPoint(id='5ba2ad60a67c4a1b853c052020f244c9', version=0, score=0.8931669160176932, payload={'page_content': '. The Dead Poets Society\\nwas alive and thriving and ready to seize the day.\\nThe boys left the cave reluctantly and got back to campus just\\nin time for practice. “Say, look who’s the soccer instructor,”\\nPitts said, as they spotted Mr. Keating approaching the field', 'metadata': None}, vector=None, shard_key=None, order_value=None)]\n",
            "Time taken: 0.14114713668823242\n",
            "[ScoredPoint(id='cdc5193a7f7b4979a4ac7d333b1423c2', version=0, score=0.8405116783749742, payload={'page_content': '.\\n“You think he’ll test us on that stuff?” Cameron asked, looking\\nconfused.\\n“Oh, come on, Cameron,” Charlie laughed, “don’t you get\\nanything?”\\nCHAPTER 5\\n \\nAfter lunch the juniors assembled in the gymnasium for the\\nrequired physical-education class', 'metadata': None}, vector=None, shard_key=None, order_value=None)]\n",
            "Time taken: 0.17016220092773438\n",
            "[ScoredPoint(id='d4c9648e443c4be583bf6debad557a5a', version=0, score=0.8454593596236073, payload={'page_content': '. Sixteen-year-old Todd Anderson, one of the few\\nstudents not wearing the school blazer, hesitated as the boys\\naround him rose to their feet. His mother nudged him up. His\\nface was drawn and unhappy, his eyes dark with anger', 'metadata': None}, vector=None, shard_key=None, order_value=None)]\n",
            "Time taken: 0.15899944305419922\n",
            "[ScoredPoint(id='c7c1a06d8bfd4e08b937882610078e77', version=0, score=0.8382109281758778, payload={'page_content': '.\\n“Due to the retirement of our beloved English teacher, Mr.\\nPortius, I hope that you will take this opportunity to meet his\\nreplacement, Mr. John Keating, himself an honors graduate of\\nthis school, who, for the last several years, has been teaching\\nat the highly regarded Chester School in London', 'metadata': None}, vector=None, shard_key=None, order_value=None)]\n",
            "Time taken: 0.2162456512451172\n",
            "[ScoredPoint(id='5282f423c5334ff784fb4080c9dc8959', version=0, score=0.8441773065963843, payload={'page_content': '.\\n \\nThe next day, the entire student body was summoned to the\\nWelton Academy Chapel. A buzz droned among the boys as\\nthey moved into their seats, passing copies of school\\nnewspapers among themselves.\\nKnox Overstreet sat down trying to hide his bruised and\\nswollen face', 'metadata': None}, vector=None, shard_key=None, order_value=None)]\n",
            "Time taken: 0.12982535362243652\n",
            "[ScoredPoint(id='c2f634bf153445fd92d1c8f35e461b95', version=0, score=0.8528826934289907, payload={'page_content': '.\\nCHAPTER 13\\n \\nNeil’s mother sat in the corner of the small, stuffy study, her\\neyes swollen with tears. Mr. Perry sat rigidly at his desk.\\nThe door opened and Neil walked in, still wearing his Puck\\ncostume, his eyes also red from crying', 'metadata': None}, vector=None, shard_key=None, order_value=None)]\n",
            "Time taken: 0.16656899452209473\n",
            "[ScoredPoint(id='51f9c99e90e849b38428c5993731348c', version=0, score=0.8615120627179964, payload={'page_content': '. “Carpe Diem,” Keating\\nwhispered \\nloudly. \\n“Seize \\nthe \\nday. \\nMake \\nyour \\nlives\\nextraordinary. ”\\nTodd, Neil, Knox, Charlie, Cameron, Meeks, Pitts, and the\\nother boys all stared into the pictures on the walls, lost in\\nthoughts that were rudely interrupted by the bell', 'metadata': None}, vector=None, shard_key=None, order_value=None)]\n",
            "Time taken: 0.11288785934448242\n",
            "[ScoredPoint(id='78d11ea823584178aa3d2dede948463a', version=0, score=0.8504408321280961, payload={'page_content': '.\\nThe boys raced down the hall and out the door into the chilly\\ncourtyard. Mr. McAllister peered out from his classroom door,\\nshaking his head in annoyance.\\n“People,“ Keating said as the boys gathered around him. “A\\ndangerous element of conformity has been seeping into your\\nwork', 'metadata': None}, vector=None, shard_key=None, order_value=None)]\n"
          ]
        }
      ]
    }
  ]
}