{
  "nbformat": 4,
  "nbformat_minor": 0,
  "metadata": {
    "colab": {
      "provenance": [],
      "authorship_tag": "ABX9TyPhJ/87O+uPx/dnNYHaGfxc",
      "include_colab_link": true
    },
    "kernelspec": {
      "name": "python3",
      "display_name": "Python 3"
    },
    "language_info": {
      "name": "python"
    }
  },
  "cells": [
    {
      "cell_type": "markdown",
      "metadata": {
        "id": "view-in-github",
        "colab_type": "text"
      },
      "source": [
        "<a href=\"https://colab.research.google.com/github/vyperid/Qdrant-vs-ChromaDB/blob/main/ChromaDB.ipynb\" target=\"_parent\"><img src=\"https://colab.research.google.com/assets/colab-badge.svg\" alt=\"Open In Colab\"/></a>"
      ]
    },
    {
      "cell_type": "code",
      "execution_count": null,
      "metadata": {
        "id": "cBGAmkjkWcrp"
      },
      "outputs": [],
      "source": [
        "!pip install chromadb openai"
      ]
    },
    {
      "cell_type": "code",
      "source": [
        "!pip install --upgrade chromadb==0.3.29"
      ],
      "metadata": {
        "id": "R8pMP0DTjNyo"
      },
      "execution_count": null,
      "outputs": []
    },
    {
      "cell_type": "code",
      "source": [
        "import chromadb\n",
        "from chromadb.config import Settings"
      ],
      "metadata": {
        "id": "mLNHmq4lW99r"
      },
      "execution_count": 1,
      "outputs": []
    },
    {
      "cell_type": "code",
      "source": [
        "client = chromadb.Client(Settings(chroma_db_impl=\"duckdb+parquet\", persist_directory=\"db/\"))"
      ],
      "metadata": {
        "id": "NG3OgotVXSle"
      },
      "execution_count": 2,
      "outputs": []
    },
    {
      "cell_type": "code",
      "source": [
        "collection = client.create_collection(name=\"Music\")"
      ],
      "metadata": {
        "id": "RjfhxXBcmoZe"
      },
      "execution_count": null,
      "outputs": []
    },
    {
      "cell_type": "code",
      "source": [
        "jazz = \"\"\"\n",
        "Jazz music emerged in the late 19th and early 20th centuries in the United States, particularly in New Orleans. It's a genre characterized by improvisation, syncopation, and a rich blend of cultural influences, including African rhythms, European harmony, and American instrumentation. Over the decades, jazz has evolved into various subgenres such as bebop, cool jazz, fusion, and free jazz, each contributing to its vibrant and diverse tapestry. Jazz has had a profound impact on other musical genres, including rock, hip-hop, and electronic music, making it a cornerstone of modern musical expression.\n",
        "\"\"\"\n",
        "\n",
        "healing_w_music = \"\"\"\n",
        "Music has long been recognized for its therapeutic properties, offering solace, comfort, and healing to individuals facing physical, emotional, or mental challenges. Research suggests that listening to music can reduce stress, alleviate pain, and improve mood by triggering the release of dopamine, a neurotransmitter associated with pleasure and reward. Music therapy, a professional practice that utilizes music interventions to address therapeutic goals, is increasingly being integrated into healthcare settings to support patients with various conditions, from depression and anxiety to Alzheimer's disease and chronic pain. Whether it's through active participation or passive listening, music continues to serve as a powerful tool for promoting well-being and enhancing quality of life.\n",
        "\"\"\"\n",
        "\n",
        "technology_w_music = \"\"\"\n",
        "Advances in technology have revolutionized the way music is created, produced, and distributed. From the invention of the phonograph in the late 19th century to the digital audio workstations (DAWs) and streaming platforms of today, technology has democratized the music industry, enabling artists to produce professional-quality recordings from the comfort of their own homes and reach global audiences with the click of a button. Digital sampling, synthesizers, and computer-generated effects have expanded the sonic palette available to musicians, while social media and online communities have transformed how artists connect with fans and build their careers. As technology continues to evolve, so too will the possibilities for musical innovation and creativity, shaping the sound of tomorrow's music landscape.\n",
        "\"\"\""
      ],
      "metadata": {
        "id": "LNQ6iU_rm0Zy"
      },
      "execution_count": 6,
      "outputs": []
    },
    {
      "cell_type": "code",
      "source": [
        "collection.add(\n",
        "    documents=[jazz, healing_w_music, technology_w_music],\n",
        "    metadatas=[{\"source\":\"jazz\"}, {\"source\":\"healing_w_music\"}, {\"source\":\"technology_w_music\"}],\n",
        "    ids=[\"id1\", \"id2\", \"id3\"]\n",
        ")"
      ],
      "metadata": {
        "colab": {
          "base_uri": "https://localhost:8080/"
        },
        "id": "-X4T4ycqnXhU",
        "outputId": "64bb1e43-2fb9-4da6-8a50-a68723bb49de"
      },
      "execution_count": 7,
      "outputs": [
        {
          "output_type": "stream",
          "name": "stderr",
          "text": [
            "/root/.cache/chroma/onnx_models/all-MiniLM-L6-v2/onnx.tar.gz: 100%|██████████| 79.3M/79.3M [00:01<00:00, 66.0MiB/s]\n"
          ]
        }
      ]
    },
    {
      "cell_type": "code",
      "source": [
        "results = collection.query(\n",
        "    query_texts=[\"Why shoudl I listen to music?\"],\n",
        "    n_results=2\n",
        ")"
      ],
      "metadata": {
        "id": "Z3RI6RDyn70B"
      },
      "execution_count": null,
      "outputs": []
    },
    {
      "cell_type": "code",
      "source": [
        "results"
      ],
      "metadata": {
        "colab": {
          "base_uri": "https://localhost:8080/"
        },
        "id": "fRiQ_5mjoEyZ",
        "outputId": "c89abca8-3d0d-4639-de27-00ebb5a25d97"
      },
      "execution_count": null,
      "outputs": [
        {
          "output_type": "execute_result",
          "data": {
            "text/plain": [
              "{'ids': [['id2', 'id3']],\n",
              " 'embeddings': None,\n",
              " 'documents': [[\"\\nMusic has long been recognized for its therapeutic properties, offering solace, comfort, and healing to individuals facing physical, emotional, or mental challenges. Research suggests that listening to music can reduce stress, alleviate pain, and improve mood by triggering the release of dopamine, a neurotransmitter associated with pleasure and reward. Music therapy, a professional practice that utilizes music interventions to address therapeutic goals, is increasingly being integrated into healthcare settings to support patients with various conditions, from depression and anxiety to Alzheimer's disease and chronic pain. Whether it's through active participation or passive listening, music continues to serve as a powerful tool for promoting well-being and enhancing quality of life.\\n\",\n",
              "   \"\\nAdvances in technology have revolutionized the way music is created, produced, and distributed. From the invention of the phonograph in the late 19th century to the digital audio workstations (DAWs) and streaming platforms of today, technology has democratized the music industry, enabling artists to produce professional-quality recordings from the comfort of their own homes and reach global audiences with the click of a button. Digital sampling, synthesizers, and computer-generated effects have expanded the sonic palette available to musicians, while social media and online communities have transformed how artists connect with fans and build their careers. As technology continues to evolve, so too will the possibilities for musical innovation and creativity, shaping the sound of tomorrow's music landscape.\\n\"]],\n",
              " 'metadatas': [[{'source': 'healing_w_music'},\n",
              "   {'source': 'technology_w_music'}]],\n",
              " 'distances': [[0.8961067795753479, 1.2632232904434204]]}"
            ]
          },
          "metadata": {},
          "execution_count": 7
        }
      ]
    },
    {
      "cell_type": "code",
      "source": [
        "collection.add(\n",
        "    documents=[jazz, healing_w_music, technology_w_music],\n",
        "    metadatas=[{\"source\":\"jazz\"}, {\"source\":\"healing_w_music\"}, {\"source\":\"technology_w_music\"}, ],\n",
        "    ids=[\"id1\", \"id2\", \"id3\"]\n",
        ")"
      ],
      "metadata": {
        "id": "OnRPG9sLLeU0"
      },
      "execution_count": null,
      "outputs": []
    },
    {
      "cell_type": "code",
      "source": [
        "collection_2 = client.create_collection(name=\"MusicCos\", metadata={\"hnsw:space\": \"cosine\"})"
      ],
      "metadata": {
        "id": "kS64SHcjMd5J"
      },
      "execution_count": 9,
      "outputs": []
    },
    {
      "cell_type": "code",
      "source": [
        "collection_2.add(\n",
        "    documents=[jazz, healing_w_music, technology_w_music],\n",
        "    metadatas=[{\"source\":\"jazz\"}, {\"source\":\"healing_w_music\"}, {\"source\":\"technology_w_music\"}],\n",
        "    ids=[\"id1\", \"id2\", \"id3\"]\n",
        ")"
      ],
      "metadata": {
        "id": "FK25iC5lMpUs"
      },
      "execution_count": 10,
      "outputs": []
    },
    {
      "cell_type": "code",
      "source": [
        "results = collection_2.query(\n",
        "    query_texts=[\"Why shoudl I listen to music?\"],\n",
        "    n_results=2\n",
        ")"
      ],
      "metadata": {
        "id": "28R3-NWKMsi2"
      },
      "execution_count": 12,
      "outputs": []
    },
    {
      "cell_type": "code",
      "source": [
        "results"
      ],
      "metadata": {
        "colab": {
          "base_uri": "https://localhost:8080/"
        },
        "id": "LybVWlAiMuSr",
        "outputId": "8d7fbb54-f474-41c2-925a-e677c80829b6"
      },
      "execution_count": 13,
      "outputs": [
        {
          "output_type": "execute_result",
          "data": {
            "text/plain": [
              "{'ids': [['id2', 'id3']],\n",
              " 'embeddings': None,\n",
              " 'documents': [[\"\\nMusic has long been recognized for its therapeutic properties, offering solace, comfort, and healing to individuals facing physical, emotional, or mental challenges. Research suggests that listening to music can reduce stress, alleviate pain, and improve mood by triggering the release of dopamine, a neurotransmitter associated with pleasure and reward. Music therapy, a professional practice that utilizes music interventions to address therapeutic goals, is increasingly being integrated into healthcare settings to support patients with various conditions, from depression and anxiety to Alzheimer's disease and chronic pain. Whether it's through active participation or passive listening, music continues to serve as a powerful tool for promoting well-being and enhancing quality of life.\\n\",\n",
              "   \"\\nAdvances in technology have revolutionized the way music is created, produced, and distributed. From the invention of the phonograph in the late 19th century to the digital audio workstations (DAWs) and streaming platforms of today, technology has democratized the music industry, enabling artists to produce professional-quality recordings from the comfort of their own homes and reach global audiences with the click of a button. Digital sampling, synthesizers, and computer-generated effects have expanded the sonic palette available to musicians, while social media and online communities have transformed how artists connect with fans and build their careers. As technology continues to evolve, so too will the possibilities for musical innovation and creativity, shaping the sound of tomorrow's music landscape.\\n\"]],\n",
              " 'metadatas': [[{'source': 'healing_w_music'},\n",
              "   {'source': 'technology_w_music'}]],\n",
              " 'distances': [[0.4480533003807068, 0.6316115856170654]]}"
            ]
          },
          "metadata": {},
          "execution_count": 13
        }
      ]
    },
    {
      "cell_type": "markdown",
      "source": [
        "* changing distance function decreased distances."
      ],
      "metadata": {
        "id": "Bk0DgJi5M03q"
      }
    }
  ]
}